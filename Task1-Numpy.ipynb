{
 "cells": [
  {
   "cell_type": "code",
   "execution_count": 1,
   "id": "fb5e9594-63aa-42b9-865f-d0488ac0d789",
   "metadata": {},
   "outputs": [
    {
     "name": "stdout",
     "output_type": "stream",
     "text": [
      "1D Array: [10 11 12 13 14 15 16 17 18 19 20]\n"
     ]
    }
   ],
   "source": [
    "# NumPy Solutions\n",
    "import numpy as np\n",
    "\n",
    "# Task 1: Create a 1D NumPy array containing integers from 10 to 20\n",
    "arr_1d = np.arange(10, 21)\n",
    "print(\"1D Array:\", arr_1d)\n",
    "\n"
   ]
  },
  {
   "cell_type": "code",
   "execution_count": 3,
   "id": "a30be3a9-b992-42d8-80aa-2bf39a4fa846",
   "metadata": {},
   "outputs": [
    {
     "name": "stdout",
     "output_type": "stream",
     "text": [
      "Number of dimensions (ndim): 2\n",
      "Shape of the array (shape): (2, 3)\n"
     ]
    }
   ],
   "source": [
    "# Task 2: Difference between .ndim and .shape\n",
    "example_array = np.array([[1, 2, 3], [4, 5, 6]])\n",
    "print(\"Number of dimensions (ndim):\", example_array.ndim)\n",
    "print(\"Shape of the array (shape):\", example_array.shape)\n",
    "\n"
   ]
  },
  {
   "cell_type": "code",
   "execution_count": 5,
   "id": "dbf9dec1-c91c-49b3-8aca-f1d4faa2315d",
   "metadata": {},
   "outputs": [
    {
     "name": "stdout",
     "output_type": "stream",
     "text": [
      "Sum of elements: 21\n"
     ]
    }
   ],
   "source": [
    "# Task 3: Sum of all elements in a NumPy array\n",
    "array_sum = np.sum(example_array)\n",
    "print(\"Sum of elements:\", array_sum)\n",
    "\n"
   ]
  },
  {
   "cell_type": "code",
   "execution_count": 7,
   "id": "563ac755-80ac-4c34-b8d0-648101e083a0",
   "metadata": {},
   "outputs": [
    {
     "name": "stdout",
     "output_type": "stream",
     "text": [
      "First three elements: [ 5 10 15]\n"
     ]
    }
   ],
   "source": [
    "# Task 4: Extract the first three elements\n",
    "arr = np.array([5, 10, 15, 20])\n",
    "first_three = arr[:3]\n",
    "print(\"First three elements:\", first_three)\n",
    "\n"
   ]
  },
  {
   "cell_type": "code",
   "execution_count": 9,
   "id": "64a73eea-ca55-4805-b9d1-4ab60578a80e",
   "metadata": {},
   "outputs": [
    {
     "name": "stdout",
     "output_type": "stream",
     "text": [
      "Default dtype: int32\n",
      "Explicit float dtype: float64\n"
     ]
    }
   ],
   "source": [
    "# Task 5: Default data type and explicitly setting it to float\n",
    "default_dtype = np.array([1, 2, 3]).dtype\n",
    "explicit_float = np.array([1, 2, 3], dtype=float).dtype\n",
    "print(\"Default dtype:\", default_dtype)\n",
    "print(\"Explicit float dtype:\", explicit_float)\n",
    "\n"
   ]
  },
  {
   "cell_type": "code",
   "execution_count": 11,
   "id": "9f079154-f1c7-442a-99a0-e20e6c8d8723",
   "metadata": {},
   "outputs": [
    {
     "name": "stdout",
     "output_type": "stream",
     "text": [
      "Element-wise addition with broadcasting:\n",
      " [[11 12 13]\n",
      " [21 22 23]\n",
      " [31 32 33]]\n"
     ]
    }
   ],
   "source": [
    "# Task 6: Element-wise addition and broadcasting\n",
    "arr1 = np.array([1, 2, 3])\n",
    "arr2 = np.array([[10], [20], [30]])\n",
    "sum_array = arr1 + arr2  # Broadcasting\n",
    "print(\"Element-wise addition with broadcasting:\\n\", sum_array)\n",
    "\n"
   ]
  },
  {
   "cell_type": "code",
   "execution_count": 13,
   "id": "bfcbcf35-0085-437f-8d17-f895346dff69",
   "metadata": {},
   "outputs": [
    {
     "name": "stdout",
     "output_type": "stream",
     "text": [
      "Mean: 3.0\n",
      "Median: 3.0\n",
      "Standard Deviation: 1.4142135623730951\n"
     ]
    }
   ],
   "source": [
    "# Task 7: Calculate mean, median, and standard deviation\n",
    "stats_array = np.array([1, 2, 3, 4, 5])\n",
    "print(\"Mean:\", np.mean(stats_array))\n",
    "print(\"Median:\", np.median(stats_array))\n",
    "print(\"Standard Deviation:\", np.std(stats_array))\n",
    "\n"
   ]
  },
  {
   "cell_type": "code",
   "execution_count": 15,
   "id": "c7aaa7a3-5aa0-4bb3-8c20-2cacc7581828",
   "metadata": {},
   "outputs": [
    {
     "name": "stdout",
     "output_type": "stream",
     "text": [
      "Reshaped Array:\n",
      " [[ 0  1  2  3]\n",
      " [ 4  5  6  7]\n",
      " [ 8  9 10 11]]\n"
     ]
    }
   ],
   "source": [
    "# Task 8: Reshape 1D array to 2D\n",
    "reshaped_array = np.arange(12).reshape(3, 4)\n",
    "print(\"Reshaped Array:\\n\", reshaped_array)\n",
    "\n"
   ]
  },
  {
   "cell_type": "code",
   "execution_count": 17,
   "id": "c415e692-75e0-4d4c-8562-1524559604cd",
   "metadata": {},
   "outputs": [
    {
     "name": "stdout",
     "output_type": "stream",
     "text": [
      "Filtered elements: [8 9]\n"
     ]
    }
   ],
   "source": [
    "# Task 9: Filter elements greater than 5\n",
    "arr = np.array([2, 5, 8, 1, 9])\n",
    "filtered = arr[arr > 5]\n",
    "print(\"Filtered elements:\", filtered)\n",
    "\n"
   ]
  },
  {
   "cell_type": "code",
   "execution_count": 19,
   "id": "2db21c5e-bff2-4da3-b00b-5b15f2ab18a8",
   "metadata": {},
   "outputs": [
    {
     "name": "stdout",
     "output_type": "stream",
     "text": [
      "Dot product:\n",
      " [[19 22]\n",
      " [43 50]]\n"
     ]
    }
   ],
   "source": [
    "# Task 10: Dot product of two 2D arrays\n",
    "A = np.array([[1, 2], [3, 4]])\n",
    "B = np.array([[5, 6], [7, 8]])\n",
    "dot_product = np.dot(A, B)\n",
    "print(\"Dot product:\\n\", dot_product)\n",
    "\n"
   ]
  },
  {
   "cell_type": "code",
   "execution_count": 21,
   "id": "f305d9e0-8d1d-42da-8762-1551c3a38802",
   "metadata": {},
   "outputs": [
    {
     "name": "stdout",
     "output_type": "stream",
     "text": [
      "Broadcasting example:\n",
      " [[11 12]\n",
      " [13 14]]\n"
     ]
    }
   ],
   "source": [
    "# Task 11: Broadcasting explained\n",
    "# Example: Adding a scalar to a matrix\n",
    "matrix = np.array([[1, 2], [3, 4]])\n",
    "scalar = 10\n",
    "broadcasted_result = matrix + scalar\n",
    "print(\"Broadcasting example:\\n\", broadcasted_result)\n",
    "\n"
   ]
  },
  {
   "cell_type": "code",
   "execution_count": 23,
   "id": "25b7d0f2-d748-41ce-9a00-63299d0a18a5",
   "metadata": {},
   "outputs": [
    {
     "name": "stdout",
     "output_type": "stream",
     "text": [
      "List memory: 104\n",
      "NumPy memory: 20\n"
     ]
    }
   ],
   "source": [
    "# Task 12: Memory efficiency of NumPy\n",
    "import sys\n",
    "list_example = [1, 2, 3, 4, 5]\n",
    "numpy_array = np.array(list_example)\n",
    "print(\"List memory:\", sys.getsizeof(list_example))\n",
    "print(\"NumPy memory:\", numpy_array.nbytes)\n",
    "\n"
   ]
  },
  {
   "cell_type": "code",
   "execution_count": null,
   "id": "65bf055f-3bf8-4b39-8cc1-abdc6d7eccf8",
   "metadata": {},
   "outputs": [],
   "source": []
  }
 ],
 "metadata": {
  "kernelspec": {
   "display_name": "Python 3 (ipykernel)",
   "language": "python",
   "name": "python3"
  },
  "language_info": {
   "codemirror_mode": {
    "name": "ipython",
    "version": 3
   },
   "file_extension": ".py",
   "mimetype": "text/x-python",
   "name": "python",
   "nbconvert_exporter": "python",
   "pygments_lexer": "ipython3",
   "version": "3.12.4"
  }
 },
 "nbformat": 4,
 "nbformat_minor": 5
}
