{
 "cells": [
  {
   "cell_type": "code",
   "execution_count": 1,
   "id": "fbd7bc59-ed9d-47fe-a71d-5b702d923194",
   "metadata": {},
   "outputs": [
    {
     "name": "stdout",
     "output_type": "stream",
     "text": [
      "DataFrame:\n",
      "     Name  Age  sales\n",
      "0  Alice   25    200\n",
      "1    Bob   30    150\n",
      "2   John   35    300\n",
      "data.csv saved locally.\n"
     ]
    }
   ],
   "source": [
    "# Pandas\n",
    "import pandas as pd\n",
    "\n",
    "# Task 1: Create a Pandas DataFrame from a dictionary of lists\n",
    "data = {'Name': ['Alice', 'Bob', 'John'], 'Age': [25, 30, 35], 'sales': [200, 150, 300]}\n",
    "df = pd.DataFrame(data)\n",
    "print(\"DataFrame:\\n\", df)\n",
    "df.to_csv('data.csv', index=False)\n",
    "print(\"data.csv saved locally.\")\n"
   ]
  },
  {
   "cell_type": "code",
   "execution_count": 3,
   "id": "d5bde5d0-50b2-42a1-a3dd-b6165cbac3a5",
   "metadata": {},
   "outputs": [
    {
     "name": "stdout",
     "output_type": "stream",
     "text": [
      "First 5 rows:\n",
      "     Name  Age  sales\n",
      "0  Alice   25    200\n",
      "1    Bob   30    150\n",
      "2   John   35    300\n"
     ]
    }
   ],
   "source": [
    "# Task 2: Read a CSV file named data.csv and display the first 5 rows\n",
    "df = pd.read_csv(\"data.csv\")\n",
    "print(\"First 5 rows:\\n\", df.head())\n",
    "\n"
   ]
  },
  {
   "cell_type": "code",
   "execution_count": 5,
   "id": "b2acb1b9-ca17-4a9f-b5d3-db03b7aeb528",
   "metadata": {},
   "outputs": [
    {
     "name": "stdout",
     "output_type": "stream",
     "text": [
      "Number of rows: 3, Number of columns: 3\n"
     ]
    }
   ],
   "source": [
    "# Task 3: Find the number of rows and columns in a DataFrame\n",
    "rows, columns = df.shape\n",
    "print(f\"Number of rows: {rows}, Number of columns: {columns}\")\n",
    "\n"
   ]
  },
  {
   "cell_type": "code",
   "execution_count": 7,
   "id": "0fbd5291-38fe-47d6-93de-f2ad21a85e10",
   "metadata": {},
   "outputs": [
    {
     "name": "stdout",
     "output_type": "stream",
     "text": [
      "Age column:\n",
      " 0    25\n",
      "1    30\n",
      "2    35\n",
      "Name: Age, dtype: int64\n"
     ]
    }
   ],
   "source": [
    "# Task 4: Select a single column named 'age' from a DataFrame\n",
    "df_age = df['Age']\n",
    "print(\"Age column:\\n\", df_age)\n",
    "\n"
   ]
  },
  {
   "cell_type": "code",
   "execution_count": 9,
   "id": "acb0100f-903a-4042-b1b4-5883f2bbb8e4",
   "metadata": {},
   "outputs": [
    {
     "name": "stdout",
     "output_type": "stream",
     "text": [
      "DataFrame Summary:\n",
      "\n",
      "<class 'pandas.core.frame.DataFrame'>\n",
      "RangeIndex: 3 entries, 0 to 2\n",
      "Data columns (total 3 columns):\n",
      " #   Column  Non-Null Count  Dtype \n",
      "---  ------  --------------  ----- \n",
      " 0   Name    3 non-null      object\n",
      " 1   Age     3 non-null      int64 \n",
      " 2   sales   3 non-null      int64 \n",
      "dtypes: int64(2), object(1)\n",
      "memory usage: 204.0+ bytes\n"
     ]
    }
   ],
   "source": [
    "# Task 5: Display a summary of the DataFrame\n",
    "print(\"DataFrame Summary:\\n\")\n",
    "df.info()\n"
   ]
  },
  {
   "cell_type": "code",
   "execution_count": 11,
   "id": "03ba9f50-d10e-4185-886d-3d09a92db95f",
   "metadata": {},
   "outputs": [
    {
     "name": "stdout",
     "output_type": "stream",
     "text": [
      "Filtered rows:\n",
      "     Name  Age  sales\n",
      "0  Alice   25    200\n",
      "1    Bob   30    150\n",
      "2   John   35    300\n"
     ]
    }
   ],
   "source": [
    "# Task 6: Filter rows where column 'sales' has values greater than 100\n",
    "filtered_df = df[df['sales'] > 100]\n",
    "print(\"Filtered rows:\\n\", filtered_df)"
   ]
  },
  {
   "cell_type": "code",
   "execution_count": 13,
   "id": "f614d61c-6e14-44bf-8cef-39b7b61881d9",
   "metadata": {},
   "outputs": [
    {
     "name": "stdout",
     "output_type": "stream",
     "text": [
      "Grouped by category and mean of revenue:\n",
      " category\n",
      "A    200.0\n",
      "B    250.0\n",
      "Name: revenue, dtype: float64\n"
     ]
    }
   ],
   "source": [
    "# Task 7: Group a DataFrame by a column named 'category' and calculate the mean of another column 'revenue'\n",
    "# Sample DataFrame with 'category' and 'revenue' columns\n",
    "df7 = pd.DataFrame({\n",
    "    'category': ['A', 'B', 'A', 'B', 'A', 'B'],\n",
    "    'revenue': [100, 150, 200, 250, 300, 350]\n",
    "})\n",
    "grouped_df = df7.groupby('category')['revenue'].mean()\n",
    "print(\"Grouped by category and mean of revenue:\\n\", grouped_df)\n",
    "\n"
   ]
  },
  {
   "cell_type": "code",
   "execution_count": null,
   "id": "4a2de73e-9928-4225-b5eb-8e36ce91ef04",
   "metadata": {},
   "outputs": [],
   "source": [
    "# Task 8: Replace all NaN values in a DataFrame with the median value of the respective column\n",
    "# Sample DataFrame with NaN values\n",
    "df8 = pd.DataFrame({\n",
    "    'Name': ['Alice', 'Bob', 'John'],\n",
    "    'Age': [25, None, 35],\n",
    "    'sales': [200, 150, None]\n",
    "})\n",
    "numeric_columns = df8.select_dtypes(include=['number']).columns\n",
    "df8[numeric_columns] = df8[numeric_columns].fillna(df8[numeric_columns].median())\n",
    "print(\"DataFrame after filling NaN values with median:\\n\", df8)\n",
    "\n",
    "# Task 9: Merge two DataFrames df1 and df2 on a common column 'id' using an inner join\n",
    "df1 = pd.DataFrame({'id': [1, 2, 3], 'name': ['Alice', 'Bob', 'John']})\n",
    "df2 = pd.DataFrame({'id': [2, 3, 4], 'revenue': [150, 200, 250]})\n",
    "merged_df = pd.merge(df1, df2, on='id', how='inner')\n",
    "print(\"Merged DataFrame on 'id' using inner join:\\n\", merged_df)\n",
    "\n",
    "# Task 10: Sort a DataFrame by a column 'price' in descending order\n",
    "df10 = pd.DataFrame({\n",
    "    'product': ['A', 'B', 'C'],\n",
    "    'price': [25, 30, 20]\n",
    "})\n",
    "sorted_df = df10.sort_values(by='price', ascending=False)\n",
    "print(\"Sorted DataFrame by price (descending):\\n\", sorted_df)\n",
    "\n",
    "# Task 11: Create a MultiIndex DataFrame from a dictionary where the outer index is country and the inner index is year\n",
    "df11 = pd.DataFrame({\n",
    "    'sales': [1000, 2000, 1500, 2500]\n",
    "}, index=pd.MultiIndex.from_tuples([('USA', 2020), ('USA', 2021), ('India', 2020), ('India', 2021)],\n",
    "                                   names=['country', 'year']))  # This is where the closing parenthesis is added\n",
    "print(\"MultiIndex DataFrame:\\n\", df11)\n",
    "\n",
    "# Task 12: Create a pivot table summarizing average sales for each region and product\n",
    "df12 = pd.DataFrame({\n",
    "    'region': ['North', 'South', 'East', 'West', 'North', 'East'],\n",
    "    'product': ['A', 'B', 'C', 'A', 'B', 'C'],\n",
    "    'sales': [100, 200, 150, 250, 300, 350]\n",
    "})\n",
    "pivot_table = df12.pivot_table(values='sales', index='region', columns='product', aggfunc='mean')\n",
    "print(\"Pivot table summarizing average sales:\\n\", pivot_table)\n",
    "\n",
    "# Task 13: Calculate the rolling mean of a column 'temperature' over a window size of 3\n",
    "df13 = pd.DataFrame({\n",
    "    'temperature': [20, 22, 24, 26, 28, 30]\n",
    "})\n",
    "df13['rolling_mean'] = df13['temperature'].rolling(window=3).mean()\n",
    "print(\"Rolling mean of temperature:\\n\", df13)\n",
    "\n",
    "# Task 14: Apply a custom function to normalize the values of a column 'score' in a DataFrame\n",
    "df14 = pd.DataFrame({\n",
    "    'score': [80, 85, 90, 95, 100]\n",
    "})\n",
    "df14['normalized_score'] = (df14['score'] - df14['score'].min()) / (df14['score'].max() - df14['score'].min())\n",
    "print(\"DataFrame with normalized score:\\n\", df14)\n",
    "\n",
    "# Task 15: Given a DataFrame with a datetime column 'date', extract the month and year as separate columns\n",
    "df15 = pd.DataFrame({\n",
    "    'date': pd.to_datetime(['2024-01-01', '2024-02-01', '2024-03-01'])\n",
    "})\n",
    "df15['month'] = df15['date'].dt.month\n",
    "df15['year'] = df15['date'].dt.year\n",
    "print(\"DataFrame with extracted month and year:\\n\", df15)\n"
   ]
  }
 ],
 "metadata": {
  "kernelspec": {
   "display_name": "Python 3 (ipykernel)",
   "language": "python",
   "name": "python3"
  },
  "language_info": {
   "codemirror_mode": {
    "name": "ipython",
    "version": 3
   },
   "file_extension": ".py",
   "mimetype": "text/x-python",
   "name": "python",
   "nbconvert_exporter": "python",
   "pygments_lexer": "ipython3",
   "version": "3.12.4"
  }
 },
 "nbformat": 4,
 "nbformat_minor": 5
}
